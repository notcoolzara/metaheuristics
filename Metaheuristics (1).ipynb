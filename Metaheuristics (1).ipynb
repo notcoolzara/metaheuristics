{
  "cells": [
    {
      "cell_type": "code",
      "execution_count": null,
      "metadata": {
        "colab": {
          "base_uri": "https://localhost:8080/"
        },
        "id": "eb1J-8AsVUdS",
        "outputId": "2414b0f2-f4fe-4a3f-eb9b-563f662bb699"
      },
      "outputs": [
        {
          "name": "stdout",
          "output_type": "stream",
          "text": [
            "Requirement already satisfied: deap in /usr/local/lib/python3.10/dist-packages (1.4.1)\n",
            "Requirement already satisfied: numpy in /usr/local/lib/python3.10/dist-packages (from deap) (1.26.4)\n",
            "Requirement already satisfied: mealpy in /usr/local/lib/python3.10/dist-packages (3.0.1)\n",
            "Requirement already satisfied: numpy>=1.17.5 in /usr/local/lib/python3.10/dist-packages (from mealpy) (1.26.4)\n",
            "Requirement already satisfied: matplotlib>=3.3.0 in /usr/local/lib/python3.10/dist-packages (from mealpy) (3.8.0)\n",
            "Requirement already satisfied: scipy>=1.7.1 in /usr/local/lib/python3.10/dist-packages (from mealpy) (1.13.1)\n",
            "Requirement already satisfied: pandas>=1.2.0 in /usr/local/lib/python3.10/dist-packages (from mealpy) (2.2.2)\n",
            "Requirement already satisfied: opfunu>=1.0.0 in /usr/local/lib/python3.10/dist-packages (from mealpy) (1.0.4)\n",
            "Requirement already satisfied: contourpy>=1.0.1 in /usr/local/lib/python3.10/dist-packages (from matplotlib>=3.3.0->mealpy) (1.3.1)\n",
            "Requirement already satisfied: cycler>=0.10 in /usr/local/lib/python3.10/dist-packages (from matplotlib>=3.3.0->mealpy) (0.12.1)\n",
            "Requirement already satisfied: fonttools>=4.22.0 in /usr/local/lib/python3.10/dist-packages (from matplotlib>=3.3.0->mealpy) (4.55.3)\n",
            "Requirement already satisfied: kiwisolver>=1.0.1 in /usr/local/lib/python3.10/dist-packages (from matplotlib>=3.3.0->mealpy) (1.4.7)\n",
            "Requirement already satisfied: packaging>=20.0 in /usr/local/lib/python3.10/dist-packages (from matplotlib>=3.3.0->mealpy) (24.2)\n",
            "Requirement already satisfied: pillow>=6.2.0 in /usr/local/lib/python3.10/dist-packages (from matplotlib>=3.3.0->mealpy) (11.0.0)\n",
            "Requirement already satisfied: pyparsing>=2.3.1 in /usr/local/lib/python3.10/dist-packages (from matplotlib>=3.3.0->mealpy) (3.2.0)\n",
            "Requirement already satisfied: python-dateutil>=2.7 in /usr/local/lib/python3.10/dist-packages (from matplotlib>=3.3.0->mealpy) (2.8.2)\n",
            "Requirement already satisfied: requests>=2.27.0 in /usr/local/lib/python3.10/dist-packages (from opfunu>=1.0.0->mealpy) (2.32.3)\n",
            "Requirement already satisfied: pytz>=2020.1 in /usr/local/lib/python3.10/dist-packages (from pandas>=1.2.0->mealpy) (2024.2)\n",
            "Requirement already satisfied: tzdata>=2022.7 in /usr/local/lib/python3.10/dist-packages (from pandas>=1.2.0->mealpy) (2024.2)\n",
            "Requirement already satisfied: six>=1.5 in /usr/local/lib/python3.10/dist-packages (from python-dateutil>=2.7->matplotlib>=3.3.0->mealpy) (1.17.0)\n",
            "Requirement already satisfied: charset-normalizer<4,>=2 in /usr/local/lib/python3.10/dist-packages (from requests>=2.27.0->opfunu>=1.0.0->mealpy) (3.4.0)\n",
            "Requirement already satisfied: idna<4,>=2.5 in /usr/local/lib/python3.10/dist-packages (from requests>=2.27.0->opfunu>=1.0.0->mealpy) (3.10)\n",
            "Requirement already satisfied: urllib3<3,>=1.21.1 in /usr/local/lib/python3.10/dist-packages (from requests>=2.27.0->opfunu>=1.0.0->mealpy) (2.2.3)\n",
            "Requirement already satisfied: certifi>=2017.4.17 in /usr/local/lib/python3.10/dist-packages (from requests>=2.27.0->opfunu>=1.0.0->mealpy) (2024.12.14)\n",
            "Requirement already satisfied: mealpy in /usr/local/lib/python3.10/dist-packages (3.0.1)\n",
            "Requirement already satisfied: numpy>=1.17.5 in /usr/local/lib/python3.10/dist-packages (from mealpy) (1.26.4)\n",
            "Requirement already satisfied: matplotlib>=3.3.0 in /usr/local/lib/python3.10/dist-packages (from mealpy) (3.8.0)\n",
            "Requirement already satisfied: scipy>=1.7.1 in /usr/local/lib/python3.10/dist-packages (from mealpy) (1.13.1)\n",
            "Requirement already satisfied: pandas>=1.2.0 in /usr/local/lib/python3.10/dist-packages (from mealpy) (2.2.2)\n",
            "Requirement already satisfied: opfunu>=1.0.0 in /usr/local/lib/python3.10/dist-packages (from mealpy) (1.0.4)\n",
            "Requirement already satisfied: contourpy>=1.0.1 in /usr/local/lib/python3.10/dist-packages (from matplotlib>=3.3.0->mealpy) (1.3.1)\n",
            "Requirement already satisfied: cycler>=0.10 in /usr/local/lib/python3.10/dist-packages (from matplotlib>=3.3.0->mealpy) (0.12.1)\n",
            "Requirement already satisfied: fonttools>=4.22.0 in /usr/local/lib/python3.10/dist-packages (from matplotlib>=3.3.0->mealpy) (4.55.3)\n",
            "Requirement already satisfied: kiwisolver>=1.0.1 in /usr/local/lib/python3.10/dist-packages (from matplotlib>=3.3.0->mealpy) (1.4.7)\n",
            "Requirement already satisfied: packaging>=20.0 in /usr/local/lib/python3.10/dist-packages (from matplotlib>=3.3.0->mealpy) (24.2)\n",
            "Requirement already satisfied: pillow>=6.2.0 in /usr/local/lib/python3.10/dist-packages (from matplotlib>=3.3.0->mealpy) (11.0.0)\n",
            "Requirement already satisfied: pyparsing>=2.3.1 in /usr/local/lib/python3.10/dist-packages (from matplotlib>=3.3.0->mealpy) (3.2.0)\n",
            "Requirement already satisfied: python-dateutil>=2.7 in /usr/local/lib/python3.10/dist-packages (from matplotlib>=3.3.0->mealpy) (2.8.2)\n",
            "Requirement already satisfied: requests>=2.27.0 in /usr/local/lib/python3.10/dist-packages (from opfunu>=1.0.0->mealpy) (2.32.3)\n",
            "Requirement already satisfied: pytz>=2020.1 in /usr/local/lib/python3.10/dist-packages (from pandas>=1.2.0->mealpy) (2024.2)\n",
            "Requirement already satisfied: tzdata>=2022.7 in /usr/local/lib/python3.10/dist-packages (from pandas>=1.2.0->mealpy) (2024.2)\n",
            "Requirement already satisfied: six>=1.5 in /usr/local/lib/python3.10/dist-packages (from python-dateutil>=2.7->matplotlib>=3.3.0->mealpy) (1.17.0)\n",
            "Requirement already satisfied: charset-normalizer<4,>=2 in /usr/local/lib/python3.10/dist-packages (from requests>=2.27.0->opfunu>=1.0.0->mealpy) (3.4.0)\n",
            "Requirement already satisfied: idna<4,>=2.5 in /usr/local/lib/python3.10/dist-packages (from requests>=2.27.0->opfunu>=1.0.0->mealpy) (3.10)\n",
            "Requirement already satisfied: urllib3<3,>=1.21.1 in /usr/local/lib/python3.10/dist-packages (from requests>=2.27.0->opfunu>=1.0.0->mealpy) (2.2.3)\n",
            "Requirement already satisfied: certifi>=2017.4.17 in /usr/local/lib/python3.10/dist-packages (from requests>=2.27.0->opfunu>=1.0.0->mealpy) (2024.12.14)\n"
          ]
        }
      ],
      "source": [
        "!pip install deap\n",
        "!pip install mealpy\n",
        "!pip install --upgrade mealpy #upgrade mealpy to the latest version"
      ]
    },
    {
      "cell_type": "code",
      "execution_count": null,
      "metadata": {
        "colab": {
          "base_uri": "https://localhost:8080/"
        },
        "id": "SsOpKKMZQqu9",
        "outputId": "af9d7f3b-095b-4487-8a8a-2941c23d77e1"
      },
      "outputs": [
        {
          "name": "stdout",
          "output_type": "stream",
          "text": [
            "Drive already mounted at /content/drive; to attempt to forcibly remount, call drive.mount(\"/content/drive\", force_remount=True).\n"
          ]
        }
      ],
      "source": [
        "from google.colab import drive\n",
        "import pandas as pd\n",
        "from sklearn.model_selection import train_test_split\n",
        "from sklearn.feature_extraction.text import TfidfVectorizer\n",
        "from sklearn.preprocessing import LabelEncoder\n",
        "import tensorflow as tf\n",
        "from tensorflow.keras.models import Sequential\n",
        "from tensorflow.keras.layers import Dense, Dropout\n",
        "from tensorflow.keras.layers import Conv2D, MaxPooling2D, AveragePooling2D, Flatten\n",
        "from deap import base, creator, tools, algorithms\n",
        "import random\n",
        "import numpy as np\n",
        "from mealpy.swarm_based import PSO\n",
        "# Mount Google Drive\n",
        "drive.mount('/content/drive')"
      ]
    },
    {
      "cell_type": "code",
      "execution_count": null,
      "metadata": {
        "id": "Jfw8fc54Q7vL"
      },
      "outputs": [],
      "source": [
        "# Veri setini yükleyin\n",
        "dataset_path = '/content/drive/My Drive/DATASET/final_hate_speech.xlsx'\n",
        "data = pd.read_excel(dataset_path)"
      ]
    },
    {
      "cell_type": "code",
      "execution_count": null,
      "metadata": {
        "id": "TlpFEPqMVFYO"
      },
      "outputs": [],
      "source": [
        "# Metin ve etiket sütunlarını belirleyin\n",
        "X = data['tweet']\n",
        "y = data['etiket']\n",
        "\n",
        "# Etiketleri encode edin\n",
        "label_encoder = LabelEncoder()\n",
        "y = label_encoder.fit_transform(y)\n",
        "\n",
        "# TF-IDF Dönüşümü\n",
        "vectorizer = TfidfVectorizer(max_features=5000)\n",
        "X = vectorizer.fit_transform(X).toarray()\n",
        "\n",
        "# Eğitim ve test verisine ayırma\n",
        "X_train, X_test, y_train, y_test = train_test_split(X, y, test_size=0.2, random_state=42)"
      ]
    },
    {
      "cell_type": "code",
      "execution_count": null,
      "metadata": {
        "id": "oAzOjj8yRd23"
      },
      "outputs": [],
      "source": [
        "def build_model(learning_rate, num_hidden_layers, units_per_layer, activation, dropout_rate, optimizer_name):\n",
        "    model = Sequential()\n",
        "    model.add(Dense(units_per_layer, activation=activation, input_shape=(X_train.shape[1],)))\n",
        "    for _ in range(num_hidden_layers - 1):\n",
        "        model.add(Dense(units_per_layer, activation=activation))\n",
        "        model.add(Dropout(dropout_rate))\n",
        "    model.add(Dense(1, activation=\"sigmoid\"))\n",
        "\n",
        "    optimizer = {\n",
        "        \"SGD\": tf.keras.optimizers.SGD(learning_rate=learning_rate),\n",
        "        \"Adam\": tf.keras.optimizers.Adam(learning_rate=learning_rate),\n",
        "        \"RMSProp\": tf.keras.optimizers.RMSprop(learning_rate=learning_rate),\n",
        "    }[optimizer_name]\n",
        "\n",
        "    model.compile(optimizer=optimizer, loss=\"binary_crossentropy\", metrics=[\"accuracy\"])\n",
        "    return model"
      ]
    },
    {
      "cell_type": "code",
      "execution_count": null,
      "metadata": {
        "id": "HLp2Yc53RiW_"
      },
      "outputs": [],
      "source": [
        "def evaluate_ga(individual):\n",
        "    # GA bireyindeki tüm parametreleri unpack et\n",
        "    learning_rate, batch_size, num_hidden_layers, units_per_layer, dropout_rate, activation_index, optimizer_index = individual\n",
        "\n",
        "    # Parametre indekslerini isimlere dönüştür\n",
        "    activation_functions = ['relu', 'tanh', 'sigmoid']\n",
        "    optimizers = ['SGD', 'Adam', 'RMSProp']\n",
        "\n",
        "    activation = activation_functions[int(activation_index)]\n",
        "    optimizer = optimizers[int(optimizer_index)]\n",
        "\n",
        "    # Modeli oluştur\n",
        "    model = build_model(learning_rate=float(learning_rate),\n",
        "                        num_hidden_layers=int(num_hidden_layers),\n",
        "                        units_per_layer=int(units_per_layer),\n",
        "                        activation=activation,\n",
        "                        dropout_rate=float(dropout_rate),\n",
        "                        optimizer_name=optimizer)\n",
        "\n",
        "    # Modeli eğit\n",
        "    model.fit(X_train, y_train, batch_size=int(batch_size), epochs=5, verbose=0)\n",
        "\n",
        "    # Test doğruluğunu al\n",
        "    _, accuracy = model.evaluate(X_test, y_test, verbose=0)\n",
        "    return accuracy,"
      ]
    },
    {
      "cell_type": "code",
      "execution_count": null,
      "metadata": {
        "id": "VmdVt-RBVRsT"
      },
      "outputs": [],
      "source": [
        "creator.create(\"FitnessMax\", base.Fitness, weights=(1.0,))\n",
        "\n",
        "# Birey sınıfı: FitnessMax'i kullanır\n",
        "creator.create(\"Individual\", list, fitness=creator.FitnessMax)\n",
        "\n",
        "# DEAP Ayarları\n",
        "toolbox = base.Toolbox()\n",
        "\n",
        "toolbox.register(\"attr_lr\", random.uniform, 0.0001, 0.1)  # Öğrenme oranı\n",
        "toolbox.register(\"attr_batch_size\", random.choice, [16, 32, 64, 128, 256])  # Batch size\n",
        "toolbox.register(\"attr_conv_layers\", random.randint, 1, 5)  # Convolutional katman sayısı\n",
        "toolbox.register(\"attr_num_filters\", random.choice, [8, 16, 32, 64, 128])  # Filtre sayısı\n",
        "toolbox.register(\"attr_kernel_size\", random.choice, [3, 5])  # Kernel boyutu\n",
        "toolbox.register(\"attr_activation\", random.randint, 0, 2)  # Aktivasyon fonksiyonu\n",
        "toolbox.register(\"attr_pooling\", random.randint, 0, 1)  # Pooling tipi\n",
        "toolbox.register(\"attr_optimizer\", random.randint, 0, 2)  # Optimizasyon algoritması\n",
        "toolbox.register(\"attr_hidden_layers\", random.randint, 1, 5)  # Gizli katman sayısı\n",
        "toolbox.register(\"attr_units\", random.choice, [64, 128, 256, 512])  # Nöron sayısı\n",
        "toolbox.register(\"attr_dropout\", random.uniform, 0.1, 0.5)  # Dropout oranı\n",
        "toolbox.register(\"mate\", tools.cxTwoPoint)  # Çaprazlama fonksiyonu ekleyin\n",
        "toolbox.register(\"mutate\", tools.mutFlipBit, indpb=0.05)  # Mutasyon fonksiyonu ekleyin\n",
        "toolbox.register(\"select\", tools.selTournament, tournsize=3)  # Seçim fonksiyonu ekleyin\n",
        "toolbox.register(\"individual\", tools.initCycle, creator.Individual,\n",
        "                 (toolbox.attr_lr, toolbox.attr_batch_size, toolbox.attr_hidden_layers,\n",
        "                  toolbox.attr_units, toolbox.attr_dropout,\n",
        "                  toolbox.attr_activation, toolbox.attr_optimizer))\n",
        "\n",
        "\n",
        "# Popülasyon oluşturma\n",
        "toolbox.register(\"population\", tools.initRepeat, list, toolbox.individual)"
      ]
    },
    {
      "cell_type": "code",
      "execution_count": null,
      "metadata": {
        "colab": {
          "background_save": true,
          "base_uri": "https://localhost:8080/"
        },
        "id": "z5yIMGHHULAE",
        "outputId": "a0399fff-838e-472f-e4fe-3d1bef7d30cd"
      },
      "outputs": [
        {
          "name": "stderr",
          "output_type": "stream",
          "text": [
            "/usr/local/lib/python3.10/dist-packages/keras/src/layers/core/dense.py:87: UserWarning: Do not pass an `input_shape`/`input_dim` argument to a layer. When using Sequential models, prefer using an `Input(shape)` object as the first layer in the model instead.\n",
            "  super().__init__(activity_regularizer=activity_regularizer, **kwargs)\n"
          ]
        },
        {
          "name": "stdout",
          "output_type": "stream",
          "text": [
            "gen\tnevals\n",
            "0  \t50    \n",
            "1  \t21    \n",
            "2  \t18    \n",
            "3  \t23    \n",
            "4  \t12    \n",
            "5  \t17    \n",
            "6  \t22    \n",
            "7  \t13    \n",
            "8  \t17    \n",
            "9  \t15    \n",
            "10 \t24    \n",
            "11 \t4     \n",
            "12 \t13    \n",
            "13 \t20    \n",
            "14 \t19    \n",
            "15 \t18    \n",
            "16 \t18    \n",
            "17 \t25    \n",
            "18 \t7     \n",
            "19 \t26    \n",
            "20 \t18    \n",
            "21 \t22    \n",
            "22 \t13    \n",
            "23 \t7     \n",
            "24 \t17    \n",
            "25 \t16    \n",
            "26 \t18    \n",
            "27 \t12    \n",
            "28 \t23    \n",
            "29 \t14    \n",
            "30 \t17    \n",
            "31 \t26    \n",
            "32 \t23    \n",
            "33 \t20    \n",
            "34 \t10    \n",
            "35 \t15    \n",
            "36 \t15    \n",
            "37 \t11    \n",
            "38 \t18    \n",
            "39 \t20    \n",
            "40 \t18    \n",
            "41 \t19    \n",
            "42 \t15    \n",
            "43 \t10    \n",
            "44 \t24    \n",
            "45 \t17    \n",
            "46 \t20    \n",
            "47 \t8     \n",
            "48 \t20    \n",
            "49 \t18    \n",
            "50 \t11    \n",
            "gen\tnevals\n",
            "0  \t0     \n",
            "1  \t14    \n",
            "2  \t17    \n",
            "3  \t18    \n",
            "4  \t16    \n",
            "5  \t21    \n",
            "6  \t16    \n",
            "7  \t17    \n",
            "8  \t12    \n",
            "9  \t12    \n",
            "10 \t29    \n"
          ]
        }
      ],
      "source": [
        "import pickle\n",
        "\n",
        "# Register evaluation function\n",
        "toolbox.register(\"evaluate\", evaluate_ga)\n",
        "\n",
        "# Initialize the population\n",
        "population = toolbox.population(n=50)\n",
        "\n",
        "# Run the GA for the first 50 generations\n",
        "result = algorithms.eaSimple(population, toolbox, cxpb=0.3, mutpb=0.05, ngen=50, verbose=True)\n",
        "\n",
        "# Save progress\n",
        "with open('ga_progress.pkl', 'wb') as f:\n",
        "    pickle.dump(population, f)\n",
        "\n",
        "# Load the saved population\n",
        "with open('ga_progress.pkl', 'rb') as f:\n",
        "    population = pickle.load(f)\n",
        "\n",
        "# Continue the GA for an additional 25 generations\n",
        "result = algorithms.eaSimple(population, toolbox, cxpb=0.3, mutpb=0.05, ngen=25, verbose=True)\n",
        "\n",
        "# Get the best individual after all generations\n",
        "best_individual = tools.selBest(population, k=1)[0]\n",
        "print(\"En iyi birey (GA):\", best_individual)\n",
        "print(\"Doğruluk (GA):\", evaluate_ga(best_individual))"
      ]
    },
    {
      "cell_type": "code",
      "execution_count": null,
      "metadata": {
        "id": "YqhJ0cKBUMh8"
      },
      "outputs": [],
      "source": [
        "def pso_model(solution):\n",
        "    learning_rate, num_layers, num_neurons, activation_index = solution\n",
        "    activation_functions = ['relu', 'tanh', 'sigmoid']\n",
        "    activation = activation_functions[int(activation_index)]\n",
        "    model = build_model(learning_rate, int(num_layers), int(num_neurons), activation)\n",
        "    model.fit(X_train, y_train, epochs=5, batch_size=32, verbose=0)\n",
        "    _, accuracy = model.evaluate(X_test, y_test, verbose=0)\n",
        "    return 1 - accuracy  # Minimizasyon için 1-accuracy döndürülüyor\n",
        "\n",
        "problem_dict = {\n",
        "    \"fit_func\": pso_model,\n",
        "    \"lb\": [0.0001, 1, 16, 0],\n",
        "    \"ub\": [0.1, 5, 128, 2],\n",
        "    \"minmax\": \"min\",\n",
        "    \"log_to\": None,\n",
        "}"
      ]
    },
    {
      "cell_type": "code",
      "execution_count": null,
      "metadata": {
        "id": "vU0hpj8JUPYa"
      },
      "outputs": [],
      "source": [
        "model = BasePSO(problem_dict, epoch=1000, pop_size=50)\n",
        "best_position, best_fitness = model.train()\n",
        "print(\"En iyi birey (PSO):\", best_position)\n",
        "print(\"Doğruluk (PSO):\", 1 - best_fitness)"
      ]
    }
  ],
  "metadata": {
    "colab": {
      "provenance": []
    },
    "kernelspec": {
      "display_name": "Python 3",
      "name": "python3"
    },
    "language_info": {
      "name": "python"
    }
  },
  "nbformat": 4,
  "nbformat_minor": 0
}