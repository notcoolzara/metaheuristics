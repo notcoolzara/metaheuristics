{
  "cells": [
    {
      "cell_type": "code",
      "execution_count": 1,
      "metadata": {
        "colab": {
          "base_uri": "https://localhost:8080/"
        },
        "id": "eb1J-8AsVUdS",
        "outputId": "836e8321-4629-4e7f-b155-838d7a93bda6"
      },
      "outputs": [
        {
          "output_type": "stream",
          "name": "stdout",
          "text": [
            "Collecting deap\n",
            "  Downloading deap-1.4.1-cp310-cp310-manylinux_2_5_x86_64.manylinux1_x86_64.manylinux_2_17_x86_64.manylinux2014_x86_64.whl.metadata (13 kB)\n",
            "Requirement already satisfied: numpy in /usr/local/lib/python3.10/dist-packages (from deap) (1.26.4)\n",
            "Downloading deap-1.4.1-cp310-cp310-manylinux_2_5_x86_64.manylinux1_x86_64.manylinux_2_17_x86_64.manylinux2014_x86_64.whl (135 kB)\n",
            "\u001b[2K   \u001b[90m━━━━━━━━━━━━━━━━━━━━━━━━━━━━━━━━━━━━━━━━\u001b[0m \u001b[32m135.4/135.4 kB\u001b[0m \u001b[31m2.6 MB/s\u001b[0m eta \u001b[36m0:00:00\u001b[0m\n",
            "\u001b[?25hInstalling collected packages: deap\n",
            "Successfully installed deap-1.4.1\n",
            "Collecting mealpy\n",
            "  Downloading mealpy-3.0.1-py3-none-any.whl.metadata (104 kB)\n",
            "\u001b[2K     \u001b[90m━━━━━━━━━━━━━━━━━━━━━━━━━━━━━━━━━━━━━━━━\u001b[0m \u001b[32m104.9/104.9 kB\u001b[0m \u001b[31m2.3 MB/s\u001b[0m eta \u001b[36m0:00:00\u001b[0m\n",
            "\u001b[?25hRequirement already satisfied: numpy>=1.17.5 in /usr/local/lib/python3.10/dist-packages (from mealpy) (1.26.4)\n",
            "Requirement already satisfied: matplotlib>=3.3.0 in /usr/local/lib/python3.10/dist-packages (from mealpy) (3.8.0)\n",
            "Requirement already satisfied: scipy>=1.7.1 in /usr/local/lib/python3.10/dist-packages (from mealpy) (1.13.1)\n",
            "Requirement already satisfied: pandas>=1.2.0 in /usr/local/lib/python3.10/dist-packages (from mealpy) (2.2.2)\n",
            "Collecting opfunu>=1.0.0 (from mealpy)\n",
            "  Downloading opfunu-1.0.4-py3-none-any.whl.metadata (10 kB)\n",
            "Requirement already satisfied: contourpy>=1.0.1 in /usr/local/lib/python3.10/dist-packages (from matplotlib>=3.3.0->mealpy) (1.3.1)\n",
            "Requirement already satisfied: cycler>=0.10 in /usr/local/lib/python3.10/dist-packages (from matplotlib>=3.3.0->mealpy) (0.12.1)\n",
            "Requirement already satisfied: fonttools>=4.22.0 in /usr/local/lib/python3.10/dist-packages (from matplotlib>=3.3.0->mealpy) (4.55.3)\n",
            "Requirement already satisfied: kiwisolver>=1.0.1 in /usr/local/lib/python3.10/dist-packages (from matplotlib>=3.3.0->mealpy) (1.4.7)\n",
            "Requirement already satisfied: packaging>=20.0 in /usr/local/lib/python3.10/dist-packages (from matplotlib>=3.3.0->mealpy) (24.2)\n",
            "Requirement already satisfied: pillow>=6.2.0 in /usr/local/lib/python3.10/dist-packages (from matplotlib>=3.3.0->mealpy) (11.0.0)\n",
            "Requirement already satisfied: pyparsing>=2.3.1 in /usr/local/lib/python3.10/dist-packages (from matplotlib>=3.3.0->mealpy) (3.2.0)\n",
            "Requirement already satisfied: python-dateutil>=2.7 in /usr/local/lib/python3.10/dist-packages (from matplotlib>=3.3.0->mealpy) (2.8.2)\n",
            "Requirement already satisfied: requests>=2.27.0 in /usr/local/lib/python3.10/dist-packages (from opfunu>=1.0.0->mealpy) (2.32.3)\n",
            "Requirement already satisfied: pytz>=2020.1 in /usr/local/lib/python3.10/dist-packages (from pandas>=1.2.0->mealpy) (2024.2)\n",
            "Requirement already satisfied: tzdata>=2022.7 in /usr/local/lib/python3.10/dist-packages (from pandas>=1.2.0->mealpy) (2024.2)\n",
            "Requirement already satisfied: six>=1.5 in /usr/local/lib/python3.10/dist-packages (from python-dateutil>=2.7->matplotlib>=3.3.0->mealpy) (1.17.0)\n",
            "Requirement already satisfied: charset-normalizer<4,>=2 in /usr/local/lib/python3.10/dist-packages (from requests>=2.27.0->opfunu>=1.0.0->mealpy) (3.4.0)\n",
            "Requirement already satisfied: idna<4,>=2.5 in /usr/local/lib/python3.10/dist-packages (from requests>=2.27.0->opfunu>=1.0.0->mealpy) (3.10)\n",
            "Requirement already satisfied: urllib3<3,>=1.21.1 in /usr/local/lib/python3.10/dist-packages (from requests>=2.27.0->opfunu>=1.0.0->mealpy) (2.2.3)\n",
            "Requirement already satisfied: certifi>=2017.4.17 in /usr/local/lib/python3.10/dist-packages (from requests>=2.27.0->opfunu>=1.0.0->mealpy) (2024.12.14)\n",
            "Downloading mealpy-3.0.1-py3-none-any.whl (386 kB)\n",
            "\u001b[2K   \u001b[90m━━━━━━━━━━━━━━━━━━━━━━━━━━━━━━━━━━━━━━━━\u001b[0m \u001b[32m386.3/386.3 kB\u001b[0m \u001b[31m6.6 MB/s\u001b[0m eta \u001b[36m0:00:00\u001b[0m\n",
            "\u001b[?25hDownloading opfunu-1.0.4-py3-none-any.whl (13.0 MB)\n",
            "\u001b[2K   \u001b[90m━━━━━━━━━━━━━━━━━━━━━━━━━━━━━━━━━━━━━━━━\u001b[0m \u001b[32m13.0/13.0 MB\u001b[0m \u001b[31m12.3 MB/s\u001b[0m eta \u001b[36m0:00:00\u001b[0m\n",
            "\u001b[?25hInstalling collected packages: opfunu, mealpy\n",
            "Successfully installed mealpy-3.0.1 opfunu-1.0.4\n",
            "Requirement already satisfied: mealpy in /usr/local/lib/python3.10/dist-packages (3.0.1)\n",
            "Requirement already satisfied: numpy>=1.17.5 in /usr/local/lib/python3.10/dist-packages (from mealpy) (1.26.4)\n",
            "Requirement already satisfied: matplotlib>=3.3.0 in /usr/local/lib/python3.10/dist-packages (from mealpy) (3.8.0)\n",
            "Requirement already satisfied: scipy>=1.7.1 in /usr/local/lib/python3.10/dist-packages (from mealpy) (1.13.1)\n",
            "Requirement already satisfied: pandas>=1.2.0 in /usr/local/lib/python3.10/dist-packages (from mealpy) (2.2.2)\n",
            "Requirement already satisfied: opfunu>=1.0.0 in /usr/local/lib/python3.10/dist-packages (from mealpy) (1.0.4)\n",
            "Requirement already satisfied: contourpy>=1.0.1 in /usr/local/lib/python3.10/dist-packages (from matplotlib>=3.3.0->mealpy) (1.3.1)\n",
            "Requirement already satisfied: cycler>=0.10 in /usr/local/lib/python3.10/dist-packages (from matplotlib>=3.3.0->mealpy) (0.12.1)\n",
            "Requirement already satisfied: fonttools>=4.22.0 in /usr/local/lib/python3.10/dist-packages (from matplotlib>=3.3.0->mealpy) (4.55.3)\n",
            "Requirement already satisfied: kiwisolver>=1.0.1 in /usr/local/lib/python3.10/dist-packages (from matplotlib>=3.3.0->mealpy) (1.4.7)\n",
            "Requirement already satisfied: packaging>=20.0 in /usr/local/lib/python3.10/dist-packages (from matplotlib>=3.3.0->mealpy) (24.2)\n",
            "Requirement already satisfied: pillow>=6.2.0 in /usr/local/lib/python3.10/dist-packages (from matplotlib>=3.3.0->mealpy) (11.0.0)\n",
            "Requirement already satisfied: pyparsing>=2.3.1 in /usr/local/lib/python3.10/dist-packages (from matplotlib>=3.3.0->mealpy) (3.2.0)\n",
            "Requirement already satisfied: python-dateutil>=2.7 in /usr/local/lib/python3.10/dist-packages (from matplotlib>=3.3.0->mealpy) (2.8.2)\n",
            "Requirement already satisfied: requests>=2.27.0 in /usr/local/lib/python3.10/dist-packages (from opfunu>=1.0.0->mealpy) (2.32.3)\n",
            "Requirement already satisfied: pytz>=2020.1 in /usr/local/lib/python3.10/dist-packages (from pandas>=1.2.0->mealpy) (2024.2)\n",
            "Requirement already satisfied: tzdata>=2022.7 in /usr/local/lib/python3.10/dist-packages (from pandas>=1.2.0->mealpy) (2024.2)\n",
            "Requirement already satisfied: six>=1.5 in /usr/local/lib/python3.10/dist-packages (from python-dateutil>=2.7->matplotlib>=3.3.0->mealpy) (1.17.0)\n",
            "Requirement already satisfied: charset-normalizer<4,>=2 in /usr/local/lib/python3.10/dist-packages (from requests>=2.27.0->opfunu>=1.0.0->mealpy) (3.4.0)\n",
            "Requirement already satisfied: idna<4,>=2.5 in /usr/local/lib/python3.10/dist-packages (from requests>=2.27.0->opfunu>=1.0.0->mealpy) (3.10)\n",
            "Requirement already satisfied: urllib3<3,>=1.21.1 in /usr/local/lib/python3.10/dist-packages (from requests>=2.27.0->opfunu>=1.0.0->mealpy) (2.2.3)\n",
            "Requirement already satisfied: certifi>=2017.4.17 in /usr/local/lib/python3.10/dist-packages (from requests>=2.27.0->opfunu>=1.0.0->mealpy) (2024.12.14)\n"
          ]
        }
      ],
      "source": [
        "!pip install deap\n",
        "!pip install mealpy\n",
        "!pip install --upgrade mealpy #upgrade mealpy to the latest version"
      ]
    },
    {
      "cell_type": "code",
      "execution_count": 2,
      "metadata": {
        "id": "SsOpKKMZQqu9"
      },
      "outputs": [],
      "source": [
        "import pandas as pd\n",
        "from sklearn.model_selection import train_test_split\n",
        "from sklearn.feature_extraction.text import TfidfVectorizer\n",
        "from sklearn.preprocessing import LabelEncoder\n",
        "from tensorflow.keras.models import Sequential\n",
        "from tensorflow.keras.layers import Dense, Dropout, Conv2D, MaxPooling2D, Flatten\n",
        "from deap import base, creator, tools, algorithms\n",
        "from mealpy.swarm_based.PSO import OriginalPSO\n",
        "import tensorflow as tf\n",
        "import random\n",
        "import numpy as np\n",
        "import pickle\n",
        "import gc"
      ]
    },
    {
      "cell_type": "code",
      "execution_count": 3,
      "metadata": {
        "id": "Jfw8fc54Q7vL",
        "colab": {
          "base_uri": "https://localhost:8080/"
        },
        "outputId": "e658bc4a-01eb-4a45-bc43-4be028de1cfe"
      },
      "outputs": [
        {
          "output_type": "stream",
          "name": "stdout",
          "text": [
            "Drive already mounted at /content/drive; to attempt to forcibly remount, call drive.mount(\"/content/drive\", force_remount=True).\n"
          ]
        }
      ],
      "source": [
        "from google.colab import drive\n",
        "# Mount Google Drive\n",
        "drive.mount('/content/drive')\n",
        "# Veri setini yükleyin\n",
        "dataset_path = '/content/drive/My Drive/DATASET/final_hate_speech.xlsx'\n",
        "data = pd.read_excel(dataset_path)"
      ]
    },
    {
      "cell_type": "code",
      "source": [
        "# Ensure TensorFlow uses GPU efficiently\n",
        "gpus = tf.config.experimental.list_physical_devices('GPU')\n",
        "if gpus:\n",
        "    try:\n",
        "        for gpu in gpus:\n",
        "            tf.config.experimental.set_memory_growth(gpu, True)\n",
        "    except RuntimeError as e:\n",
        "        print(e)"
      ],
      "metadata": {
        "id": "Aexrs9QQX2c4"
      },
      "execution_count": 4,
      "outputs": []
    },
    {
      "cell_type": "code",
      "execution_count": 5,
      "metadata": {
        "id": "TlpFEPqMVFYO"
      },
      "outputs": [],
      "source": [
        "# Prepare data\n",
        "X = data['tweet']\n",
        "y = data['etiket']\n",
        "\n",
        "# Encode labels\n",
        "label_encoder = LabelEncoder()\n",
        "y = label_encoder.fit_transform(y)\n",
        "\n",
        "# TF-IDF transformation\n",
        "vectorizer = TfidfVectorizer(max_features=2000)  # Adjust as needed\n",
        "X = vectorizer.fit_transform(X).toarray()\n",
        "\n",
        "# Train-test split\n",
        "X_train, X_test, y_train, y_test = train_test_split(X, y, test_size=0.2, random_state=42)"
      ]
    },
    {
      "cell_type": "code",
      "execution_count": 6,
      "metadata": {
        "id": "oAzOjj8yRd23"
      },
      "outputs": [],
      "source": [
        "# ANN model builder function\n",
        "def build_ann_model(learning_rate, num_hidden_layers, units_per_layer, activation, dropout_rate, optimizer_name):\n",
        "    model = Sequential()\n",
        "    # Input layer\n",
        "    model.add(Dense(units_per_layer, activation=activation, input_shape=(X_train.shape[1],)))\n",
        "\n",
        "    # Hidden layers\n",
        "    for _ in range(num_hidden_layers - 1):\n",
        "        model.add(Dense(units_per_layer, activation=activation))\n",
        "        model.add(Dropout(dropout_rate))\n",
        "\n",
        "    # Output layer\n",
        "    model.add(Dense(1, activation=\"sigmoid\"))  # Binary classification\n",
        "\n",
        "    # Optimizer selection\n",
        "    optimizer = {\n",
        "        \"SGD\": tf.keras.optimizers.SGD(learning_rate=learning_rate),\n",
        "        \"Adam\": tf.keras.optimizers.Adam(learning_rate=learning_rate),\n",
        "        \"RMSProp\": tf.keras.optimizers.RMSprop(learning_rate=learning_rate),\n",
        "    }[optimizer_name]\n",
        "\n",
        "    # Compile the model\n",
        "    model.compile(optimizer=optimizer, loss=\"binary_crossentropy\", metrics=[\"accuracy\"])\n",
        "\n",
        "    return model"
      ]
    },
    {
      "cell_type": "code",
      "execution_count": 7,
      "metadata": {
        "id": "HLp2Yc53RiW_"
      },
      "outputs": [],
      "source": [
        "# Evaluate function for GA\n",
        "def evaluate_ann_ga(individual):\n",
        "    learning_rate, batch_size, num_hidden_layers, units_per_layer, dropout_rate, activation_index, optimizer_index = individual\n",
        "\n",
        "    activation_functions = ['relu', 'tanh', 'sigmoid']\n",
        "    optimizers = ['SGD', 'Adam', 'RMSProp']\n",
        "\n",
        "    activation = activation_functions[int(activation_index)]\n",
        "    optimizer = optimizers[int(optimizer_index)]\n",
        "\n",
        "    model = build_ann_model(\n",
        "        learning_rate=float(learning_rate),\n",
        "        num_hidden_layers=int(num_hidden_layers),\n",
        "        units_per_layer=int(units_per_layer),\n",
        "        activation=activation,\n",
        "        dropout_rate=float(dropout_rate),\n",
        "        optimizer_name=optimizer\n",
        "    )\n",
        "\n",
        "    model.fit(X_train, y_train, batch_size=int(batch_size), epochs=3, verbose=0)\n",
        "\n",
        "    _, accuracy = model.evaluate(X_test, y_test, verbose=0)\n",
        "    return accuracy,"
      ]
    },
    {
      "cell_type": "code",
      "execution_count": 8,
      "metadata": {
        "id": "VmdVt-RBVRsT"
      },
      "outputs": [],
      "source": [
        "# Genetic Algorithm (GA) setup\n",
        "creator.create(\"FitnessMax\", base.Fitness, weights=(1.0,))\n",
        "creator.create(\"Individual\", list, fitness=creator.FitnessMax)\n",
        "toolbox = base.Toolbox()\n",
        "\n",
        "toolbox.register(\"attr_lr\", random.uniform, 0.0001, 0.1)\n",
        "toolbox.register(\"attr_batch_size\", random.choice, [16, 32, 64, 128, 256])\n",
        "toolbox.register(\"attr_hidden_layers\", random.randint, 1, 5)\n",
        "toolbox.register(\"attr_units\", random.randint, 16, 128)\n",
        "toolbox.register(\"attr_dropout\", random.uniform, 0.1, 0.5)\n",
        "toolbox.register(\"attr_activation\", random.randint, 0, 2)\n",
        "toolbox.register(\"attr_optimizer\", random.randint, 0, 2)\n",
        "\n",
        "toolbox.register(\"individual\", tools.initCycle, creator.Individual,\n",
        "                 (toolbox.attr_lr, toolbox.attr_batch_size, toolbox.attr_hidden_layers,\n",
        "                  toolbox.attr_units, toolbox.attr_dropout, toolbox.attr_activation,\n",
        "                  toolbox.attr_optimizer))\n",
        "\n",
        "toolbox.register(\"population\", tools.initRepeat, list, toolbox.individual)\n",
        "toolbox.register(\"evaluate\", evaluate_ann_ga)\n",
        "toolbox.register(\"mate\", tools.cxOnePoint)  # Updated to one-point crossover\n",
        "toolbox.register(\"mutate\", tools.mutFlipBit, indpb=0.05)  # Mutation probability: 5%\n",
        "toolbox.register(\"select\", tools.selTournament, tournsize=5)  # Tournament size: 5"
      ]
    },
    {
      "cell_type": "code",
      "execution_count": null,
      "metadata": {
        "colab": {
          "base_uri": "https://localhost:8080/"
        },
        "id": "z5yIMGHHULAE",
        "outputId": "37fb7fbb-4dcc-4883-c4a0-7627f0a4a94f"
      },
      "outputs": [
        {
          "output_type": "stream",
          "name": "stdout",
          "text": [
            "Running GA for 1000 generations...\n"
          ]
        },
        {
          "output_type": "stream",
          "name": "stderr",
          "text": [
            "/usr/local/lib/python3.10/dist-packages/keras/src/layers/core/dense.py:87: UserWarning: Do not pass an `input_shape`/`input_dim` argument to a layer. When using Sequential models, prefer using an `Input(shape)` object as the first layer in the model instead.\n",
            "  super().__init__(activity_regularizer=activity_regularizer, **kwargs)\n"
          ]
        },
        {
          "output_type": "stream",
          "name": "stdout",
          "text": [
            "gen\tnevals\n",
            "0  \t50    \n",
            "1  \t13    \n",
            "2  \t20    \n",
            "3  \t15    \n",
            "4  \t17    \n",
            "5  \t20    \n",
            "6  \t11    \n",
            "7  \t13    \n",
            "8  \t16    \n",
            "9  \t11    \n",
            "10 \t10    \n",
            "11 \t15    \n",
            "12 \t15    \n",
            "13 \t13    \n",
            "14 \t16    \n",
            "15 \t15    \n",
            "16 \t17    \n",
            "17 \t14    \n",
            "18 \t12    \n",
            "19 \t15    \n",
            "20 \t19    \n"
          ]
        }
      ],
      "source": [
        "# Adjusted GA parameters\n",
        "population_size = 50\n",
        "num_generations_1000 = 1000\n",
        "num_generations_5000 = 5000\n",
        "\n",
        "# Run GA for 1000 generations\n",
        "print(\"Running GA for 1000 generations...\")\n",
        "population = toolbox.population(n=population_size)\n",
        "result_1000 = algorithms.eaSimple(population, toolbox, cxpb=0.3, mutpb=0.05, ngen=num_generations_1000, verbose=True)\n",
        "\n",
        "with open('ga_ann_progress_1000.pkl', 'wb') as f:\n",
        "    pickle.dump(population, f)\n",
        "\n",
        "best_individual_1000 = tools.selBest(population, k=1)[0]\n",
        "print(\"Best Individual (GA, 1000 generations):\", best_individual_1000)\n",
        "print(\"Accuracy (GA, 1000 generations):\", evaluate_ann_ga(best_individual_1000))"
      ]
    },
    {
      "cell_type": "code",
      "execution_count": null,
      "metadata": {
        "id": "YqhJ0cKBUMh8"
      },
      "outputs": [],
      "source": [
        "# Run GA for 5000 generations\n",
        "print(\"Running GA for 5000 generations...\")\n",
        "population = toolbox.population(n=population_size)\n",
        "result_5000 = algorithms.eaSimple(population, toolbox, cxpb=0.3, mutpb=0.05, ngen=num_generations_5000, verbose=True)\n",
        "\n",
        "with open('ga_ann_progress_5000.pkl', 'wb') as f:\n",
        "    pickle.dump(population, f)\n",
        "\n",
        "best_individual_5000 = tools.selBest(population, k=1)[0]\n",
        "print(\"Best Individual (GA, 5000 generations):\", best_individual_5000)\n",
        "print(\"Accuracy (GA, 5000 generations):\", evaluate_ann_ga(best_individual_5000))"
      ]
    },
    {
      "cell_type": "code",
      "execution_count": null,
      "metadata": {
        "id": "vU0hpj8JUPYa"
      },
      "outputs": [],
      "source": [
        "# PSO Implementation\n",
        "def fitness_function(solution):\n",
        "    return evaluate_ann_ga(solution)[0]\n",
        "\n",
        "problem = {\n",
        "    'fit_func': fitness_function,\n",
        "    'lb': [0.0001, 16, 1, 16, 0.1, 0, 0],\n",
        "    'ub': [0.1, 256, 5, 128, 0.5, 2, 2],\n",
        "    'minmax': 'max',\n",
        "    'verbose': True,\n",
        "}"
      ]
    },
    {
      "cell_type": "code",
      "source": [
        "# Run PSO for 1000 generations\n",
        "print(\"Running PSO for 1000 generations...\")\n",
        "model = OriginalPSO(problem, epoch=1000, pop_size=population_size)\n",
        "best_solution_1000, best_fitness_1000 = model.solve()\n",
        "print(\"Best Individual (PSO, 1000 generations):\", best_solution_1000)\n",
        "print(\"Accuracy (PSO, 1000 generations):\", best_fitness_1000)"
      ],
      "metadata": {
        "id": "nv1GKKWsYeQC"
      },
      "execution_count": null,
      "outputs": []
    },
    {
      "cell_type": "code",
      "source": [
        "# Run PSO for 5000 generations\n",
        "print(\"Running PSO for 5000 generations...\")\n",
        "model = OriginalPSO(problem, epoch=5000, pop_size=population_size)\n",
        "best_solution_5000, best_fitness_5000 = model.solve()\n",
        "print(\"Best Individual (PSO, 5000 generations):\", best_solution_5000)\n",
        "print(\"Accuracy (PSO, 5000 generations):\", best_fitness_5000)"
      ],
      "metadata": {
        "id": "Ss3YoO9FYiQm"
      },
      "execution_count": null,
      "outputs": []
    }
  ],
  "metadata": {
    "colab": {
      "provenance": []
    },
    "kernelspec": {
      "display_name": "Python 3",
      "name": "python3"
    },
    "language_info": {
      "name": "python"
    }
  },
  "nbformat": 4,
  "nbformat_minor": 0
}