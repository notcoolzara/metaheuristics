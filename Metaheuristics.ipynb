{
  "cells": [
    {
      "cell_type": "code",
      "execution_count": 1,
      "metadata": {
        "id": "eb1J-8AsVUdS",
        "colab": {
          "base_uri": "https://localhost:8080/"
        },
        "outputId": "a5da2fff-a04f-4202-cc5c-043d2ed0a81a"
      },
      "outputs": [
        {
          "output_type": "stream",
          "name": "stdout",
          "text": [
            "Requirement already satisfied: deap in /usr/local/lib/python3.10/dist-packages (1.4.1)\n",
            "Requirement already satisfied: numpy in /usr/local/lib/python3.10/dist-packages (from deap) (1.26.4)\n",
            "Requirement already satisfied: mealpy in /usr/local/lib/python3.10/dist-packages (3.0.1)\n",
            "Requirement already satisfied: numpy>=1.17.5 in /usr/local/lib/python3.10/dist-packages (from mealpy) (1.26.4)\n",
            "Requirement already satisfied: matplotlib>=3.3.0 in /usr/local/lib/python3.10/dist-packages (from mealpy) (3.8.0)\n",
            "Requirement already satisfied: scipy>=1.7.1 in /usr/local/lib/python3.10/dist-packages (from mealpy) (1.13.1)\n",
            "Requirement already satisfied: pandas>=1.2.0 in /usr/local/lib/python3.10/dist-packages (from mealpy) (2.2.2)\n",
            "Requirement already satisfied: opfunu>=1.0.0 in /usr/local/lib/python3.10/dist-packages (from mealpy) (1.0.4)\n",
            "Requirement already satisfied: contourpy>=1.0.1 in /usr/local/lib/python3.10/dist-packages (from matplotlib>=3.3.0->mealpy) (1.3.1)\n",
            "Requirement already satisfied: cycler>=0.10 in /usr/local/lib/python3.10/dist-packages (from matplotlib>=3.3.0->mealpy) (0.12.1)\n",
            "Requirement already satisfied: fonttools>=4.22.0 in /usr/local/lib/python3.10/dist-packages (from matplotlib>=3.3.0->mealpy) (4.55.3)\n",
            "Requirement already satisfied: kiwisolver>=1.0.1 in /usr/local/lib/python3.10/dist-packages (from matplotlib>=3.3.0->mealpy) (1.4.7)\n",
            "Requirement already satisfied: packaging>=20.0 in /usr/local/lib/python3.10/dist-packages (from matplotlib>=3.3.0->mealpy) (24.2)\n",
            "Requirement already satisfied: pillow>=6.2.0 in /usr/local/lib/python3.10/dist-packages (from matplotlib>=3.3.0->mealpy) (11.0.0)\n",
            "Requirement already satisfied: pyparsing>=2.3.1 in /usr/local/lib/python3.10/dist-packages (from matplotlib>=3.3.0->mealpy) (3.2.0)\n",
            "Requirement already satisfied: python-dateutil>=2.7 in /usr/local/lib/python3.10/dist-packages (from matplotlib>=3.3.0->mealpy) (2.8.2)\n",
            "Requirement already satisfied: requests>=2.27.0 in /usr/local/lib/python3.10/dist-packages (from opfunu>=1.0.0->mealpy) (2.32.3)\n",
            "Requirement already satisfied: pytz>=2020.1 in /usr/local/lib/python3.10/dist-packages (from pandas>=1.2.0->mealpy) (2024.2)\n",
            "Requirement already satisfied: tzdata>=2022.7 in /usr/local/lib/python3.10/dist-packages (from pandas>=1.2.0->mealpy) (2024.2)\n",
            "Requirement already satisfied: six>=1.5 in /usr/local/lib/python3.10/dist-packages (from python-dateutil>=2.7->matplotlib>=3.3.0->mealpy) (1.17.0)\n",
            "Requirement already satisfied: charset-normalizer<4,>=2 in /usr/local/lib/python3.10/dist-packages (from requests>=2.27.0->opfunu>=1.0.0->mealpy) (3.4.0)\n",
            "Requirement already satisfied: idna<4,>=2.5 in /usr/local/lib/python3.10/dist-packages (from requests>=2.27.0->opfunu>=1.0.0->mealpy) (3.10)\n",
            "Requirement already satisfied: urllib3<3,>=1.21.1 in /usr/local/lib/python3.10/dist-packages (from requests>=2.27.0->opfunu>=1.0.0->mealpy) (2.2.3)\n",
            "Requirement already satisfied: certifi>=2017.4.17 in /usr/local/lib/python3.10/dist-packages (from requests>=2.27.0->opfunu>=1.0.0->mealpy) (2024.12.14)\n",
            "Requirement already satisfied: mealpy in /usr/local/lib/python3.10/dist-packages (3.0.1)\n",
            "Requirement already satisfied: numpy>=1.17.5 in /usr/local/lib/python3.10/dist-packages (from mealpy) (1.26.4)\n",
            "Requirement already satisfied: matplotlib>=3.3.0 in /usr/local/lib/python3.10/dist-packages (from mealpy) (3.8.0)\n",
            "Requirement already satisfied: scipy>=1.7.1 in /usr/local/lib/python3.10/dist-packages (from mealpy) (1.13.1)\n",
            "Requirement already satisfied: pandas>=1.2.0 in /usr/local/lib/python3.10/dist-packages (from mealpy) (2.2.2)\n",
            "Requirement already satisfied: opfunu>=1.0.0 in /usr/local/lib/python3.10/dist-packages (from mealpy) (1.0.4)\n",
            "Requirement already satisfied: contourpy>=1.0.1 in /usr/local/lib/python3.10/dist-packages (from matplotlib>=3.3.0->mealpy) (1.3.1)\n",
            "Requirement already satisfied: cycler>=0.10 in /usr/local/lib/python3.10/dist-packages (from matplotlib>=3.3.0->mealpy) (0.12.1)\n",
            "Requirement already satisfied: fonttools>=4.22.0 in /usr/local/lib/python3.10/dist-packages (from matplotlib>=3.3.0->mealpy) (4.55.3)\n",
            "Requirement already satisfied: kiwisolver>=1.0.1 in /usr/local/lib/python3.10/dist-packages (from matplotlib>=3.3.0->mealpy) (1.4.7)\n",
            "Requirement already satisfied: packaging>=20.0 in /usr/local/lib/python3.10/dist-packages (from matplotlib>=3.3.0->mealpy) (24.2)\n",
            "Requirement already satisfied: pillow>=6.2.0 in /usr/local/lib/python3.10/dist-packages (from matplotlib>=3.3.0->mealpy) (11.0.0)\n",
            "Requirement already satisfied: pyparsing>=2.3.1 in /usr/local/lib/python3.10/dist-packages (from matplotlib>=3.3.0->mealpy) (3.2.0)\n",
            "Requirement already satisfied: python-dateutil>=2.7 in /usr/local/lib/python3.10/dist-packages (from matplotlib>=3.3.0->mealpy) (2.8.2)\n",
            "Requirement already satisfied: requests>=2.27.0 in /usr/local/lib/python3.10/dist-packages (from opfunu>=1.0.0->mealpy) (2.32.3)\n",
            "Requirement already satisfied: pytz>=2020.1 in /usr/local/lib/python3.10/dist-packages (from pandas>=1.2.0->mealpy) (2024.2)\n",
            "Requirement already satisfied: tzdata>=2022.7 in /usr/local/lib/python3.10/dist-packages (from pandas>=1.2.0->mealpy) (2024.2)\n",
            "Requirement already satisfied: six>=1.5 in /usr/local/lib/python3.10/dist-packages (from python-dateutil>=2.7->matplotlib>=3.3.0->mealpy) (1.17.0)\n",
            "Requirement already satisfied: charset-normalizer<4,>=2 in /usr/local/lib/python3.10/dist-packages (from requests>=2.27.0->opfunu>=1.0.0->mealpy) (3.4.0)\n",
            "Requirement already satisfied: idna<4,>=2.5 in /usr/local/lib/python3.10/dist-packages (from requests>=2.27.0->opfunu>=1.0.0->mealpy) (3.10)\n",
            "Requirement already satisfied: urllib3<3,>=1.21.1 in /usr/local/lib/python3.10/dist-packages (from requests>=2.27.0->opfunu>=1.0.0->mealpy) (2.2.3)\n",
            "Requirement already satisfied: certifi>=2017.4.17 in /usr/local/lib/python3.10/dist-packages (from requests>=2.27.0->opfunu>=1.0.0->mealpy) (2024.12.14)\n"
          ]
        }
      ],
      "source": [
        "!pip install deap\n",
        "!pip install mealpy\n",
        "!pip install --upgrade mealpy #upgrade mealpy to the latest version"
      ]
    },
    {
      "cell_type": "code",
      "execution_count": 2,
      "metadata": {
        "id": "SsOpKKMZQqu9"
      },
      "outputs": [],
      "source": [
        "import pandas as pd\n",
        "from sklearn.model_selection import train_test_split\n",
        "from sklearn.feature_extraction.text import TfidfVectorizer\n",
        "from sklearn.preprocessing import LabelEncoder\n",
        "from tensorflow.keras.models import Sequential\n",
        "from tensorflow.keras.layers import Dense, Dropout\n",
        "from deap import base, creator, tools, algorithms\n",
        "import tensorflow as tf\n",
        "import random\n",
        "import numpy as np\n",
        "import gc"
      ]
    },
    {
      "cell_type": "code",
      "execution_count": 3,
      "metadata": {
        "id": "Jfw8fc54Q7vL",
        "colab": {
          "base_uri": "https://localhost:8080/"
        },
        "outputId": "3fe61773-6fb5-4079-8cde-2ac11cf5e9a1"
      },
      "outputs": [
        {
          "output_type": "stream",
          "name": "stdout",
          "text": [
            "Drive already mounted at /content/drive; to attempt to forcibly remount, call drive.mount(\"/content/drive\", force_remount=True).\n"
          ]
        }
      ],
      "source": [
        "from google.colab import drive\n",
        "# Mount Google Drive\n",
        "drive.mount('/content/drive')\n",
        "# Veri setini yükleyin\n",
        "dataset_path = '/content/drive/My Drive/DATASET/final_hate_speech.xlsx'\n",
        "data = pd.read_excel(dataset_path)"
      ]
    },
    {
      "cell_type": "code",
      "execution_count": 4,
      "metadata": {
        "id": "TlpFEPqMVFYO"
      },
      "outputs": [],
      "source": [
        "# Prepare data\n",
        "X = data['tweet']\n",
        "y = data['etiket']\n",
        "\n",
        "# Encode labels\n",
        "label_encoder = LabelEncoder()\n",
        "y = label_encoder.fit_transform(y)\n",
        "\n",
        "# TF-IDF transformation\n",
        "vectorizer = TfidfVectorizer(max_features=2000)  # Adjust as needed\n",
        "X = vectorizer.fit_transform(X).toarray()\n",
        "\n",
        "# Train-test split\n",
        "X_train, X_test, y_train, y_test = train_test_split(X, y, test_size=0.2, random_state=42)"
      ]
    },
    {
      "cell_type": "code",
      "execution_count": 5,
      "metadata": {
        "id": "oAzOjj8yRd23"
      },
      "outputs": [],
      "source": [
        "# Updated model builder function\n",
        "def build_ann_model(learning_rate, num_hidden_layers, units_per_layer, kernel_size, activation, pooling_index, dropout_rate, optimizer_name):\n",
        "    pooling_types = [tf.keras.layers.MaxPooling2D, tf.keras.layers.AveragePooling2D]\n",
        "    pooling = pooling_types[int(pooling_index)]\n",
        "\n",
        "    model = Sequential()\n",
        "    model.add(Dense(units_per_layer, activation=activation, input_shape=(X_train.shape[1],)))\n",
        "    for _ in range(num_hidden_layers - 1):\n",
        "        model.add(Dense(units_per_layer, activation=activation))\n",
        "        model.add(Dropout(dropout_rate))\n",
        "    model.add(Dense(1, activation=\"sigmoid\"))\n",
        "\n",
        "    optimizer = {\n",
        "        \"SGD\": tf.keras.optimizers.SGD(learning_rate=learning_rate),\n",
        "        \"Adam\": tf.keras.optimizers.Adam(learning_rate=learning_rate),\n",
        "        \"RMSProp\": tf.keras.optimizers.RMSprop(learning_rate=learning_rate),\n",
        "    }[optimizer_name]\n",
        "\n",
        "    model.compile(optimizer=optimizer, loss=\"binary_crossentropy\", metrics=[\"accuracy\"])\n",
        "    return model"
      ]
    },
    {
      "cell_type": "code",
      "execution_count": 6,
      "metadata": {
        "id": "HLp2Yc53RiW_"
      },
      "outputs": [],
      "source": [
        "# Updated evaluation function\n",
        "def evaluate_ann_ga(individual):\n",
        "    learning_rate, batch_size, num_hidden_layers, units_per_layer, kernel_size_index, activation_index, pooling_index, optimizer_index = individual\n",
        "    activation_functions = ['relu', 'tanh', 'sigmoid']\n",
        "    optimizers = ['SGD', 'Adam', 'RMSProp']\n",
        "    kernel_sizes = [(3, 3), (5, 5)]\n",
        "\n",
        "    activation = activation_functions[int(activation_index)]\n",
        "    optimizer = optimizers[int(optimizer_index)]\n",
        "    kernel_size = kernel_sizes[int(kernel_size_index)]\n",
        "\n",
        "    model = build_ann_model(\n",
        "        learning_rate=float(learning_rate),\n",
        "        num_hidden_layers=int(num_hidden_layers),\n",
        "        units_per_layer=int(units_per_layer),\n",
        "        kernel_size=kernel_size,\n",
        "        activation=activation,\n",
        "        pooling_index=pooling_index,\n",
        "        dropout_rate=float(0.2),  # Adjust if needed\n",
        "        optimizer_name=optimizer\n",
        "    )\n",
        "\n",
        "    model.fit(X_train, y_train, batch_size=int(batch_size), epochs=3, verbose=0)\n",
        "    _, accuracy = model.evaluate(X_test, y_test, verbose=0)\n",
        "    tf.keras.backend.clear_session()\n",
        "    gc.collect()\n",
        "    return accuracy,"
      ]
    },
    {
      "cell_type": "code",
      "execution_count": 7,
      "metadata": {
        "id": "VmdVt-RBVRsT"
      },
      "outputs": [],
      "source": [
        "creator.create(\"FitnessMax\", base.Fitness, weights=(1.0,))\n",
        "creator.create(\"Individual\", list, fitness=creator.FitnessMax)\n",
        "toolbox = base.Toolbox()\n",
        "\n",
        "toolbox.register(\"attr_lr\", random.uniform, 0.0001, 0.1)\n",
        "toolbox.register(\"attr_batch_size\", random.choice, [16, 32, 64, 128])\n",
        "toolbox.register(\"attr_hidden_layers\", random.randint, 1, 5)\n",
        "toolbox.register(\"attr_units\", random.choice, [8, 16, 32, 64])\n",
        "toolbox.register(\"attr_kernel_size\", random.randint, 0, 1)\n",
        "toolbox.register(\"attr_activation\", random.randint, 0, 2)  # Index for ['ReLU', 'tanh', 'sigmoid']\n",
        "toolbox.register(\"attr_pooling\", random.randint, 0, 1)  # Index for ['MaxPooling', 'AveragePooling']\n",
        "toolbox.register(\"attr_optimizer\", random.randint, 0, 2)  # Index for ['SGD', 'Adam', 'RMSProp']\n",
        "\n",
        "toolbox.register(\"individual\", tools.initCycle, creator.Individual,\n",
        "                 (toolbox.attr_lr, toolbox.attr_batch_size, toolbox.attr_hidden_layers,\n",
        "                  toolbox.attr_units, toolbox.attr_kernel_size, toolbox.attr_activation,\n",
        "                  toolbox.attr_pooling, toolbox.attr_optimizer))\n",
        "\n",
        "\n",
        "toolbox.register(\"population\", tools.initRepeat, list, toolbox.individual)\n",
        "toolbox.register(\"evaluate\", evaluate_ann_ga)\n",
        "toolbox.register(\"mate\", tools.cxOnePoint)\n",
        "toolbox.register(\"mutate\", tools.mutFlipBit, indpb=0.05)\n",
        "toolbox.register(\"select\", tools.selTournament, tournsize=5)"
      ]
    },
    {
      "cell_type": "code",
      "execution_count": 9,
      "metadata": {
        "id": "nv1GKKWsYeQC",
        "colab": {
          "base_uri": "https://localhost:8080/",
          "height": 1000
        },
        "outputId": "973d1195-7660-4ac3-c5b2-ceb2a2e893b8"
      },
      "outputs": [
        {
          "output_type": "stream",
          "name": "stdout",
          "text": [
            "Running GA for 25 generations...\n"
          ]
        },
        {
          "output_type": "stream",
          "name": "stderr",
          "text": [
            "/usr/local/lib/python3.10/dist-packages/keras/src/layers/core/dense.py:87: UserWarning: Do not pass an `input_shape`/`input_dim` argument to a layer. When using Sequential models, prefer using an `Input(shape)` object as the first layer in the model instead.\n",
            "  super().__init__(activity_regularizer=activity_regularizer, **kwargs)\n"
          ]
        },
        {
          "output_type": "stream",
          "name": "stdout",
          "text": [
            "gen\tnevals\n",
            "0  \t30    \n",
            "1  \t7     \n",
            "2  \t8     \n",
            "3  \t9     \n",
            "4  \t13    \n",
            "5  \t13    \n",
            "6  \t10    \n",
            "7  \t15    \n",
            "8  \t12    \n",
            "9  \t11    \n",
            "10 \t7     \n",
            "11 \t9     \n",
            "12 \t6     \n",
            "13 \t11    \n",
            "14 \t8     \n",
            "15 \t15    \n",
            "16 \t10    \n",
            "17 \t12    \n",
            "18 \t11    \n",
            "19 \t12    \n",
            "20 \t6     \n",
            "21 \t8     \n",
            "22 \t8     \n",
            "23 \t9     \n",
            "24 \t19    \n",
            "25 \t12    \n",
            "Best Individual (GA, 25 generations): [0.0023198057204426446, 32, 3, 64, 0, 2, 1, 1]\n",
            "Accuracy (GA, 25 generations): 0.8298288583755493\n",
            "Running GA for 50 generations...\n",
            "gen\tnevals\n",
            "0  \t30    \n",
            "1  \t12    \n",
            "2  \t14    \n",
            "3  \t14    \n",
            "4  \t7     \n",
            "5  \t10    \n",
            "6  \t5     \n",
            "7  \t9     \n",
            "8  \t15    \n",
            "9  \t8     \n",
            "10 \t8     \n",
            "11 \t5     \n",
            "12 \t10    \n",
            "13 \t14    \n",
            "14 \t16    \n",
            "15 \t6     \n",
            "16 \t13    \n",
            "17 \t5     \n",
            "18 \t8     \n",
            "19 \t13    \n",
            "20 \t6     \n",
            "21 \t10    \n",
            "22 \t9     \n",
            "23 \t3     \n",
            "24 \t9     \n",
            "25 \t20    \n",
            "26 \t10    \n",
            "27 \t13    \n",
            "28 \t14    \n",
            "29 \t8     \n",
            "30 \t9     \n",
            "31 \t13    \n",
            "32 \t9     \n",
            "33 \t17    \n",
            "34 \t18    \n",
            "35 \t13    \n",
            "36 \t15    \n",
            "37 \t6     \n",
            "38 \t7     \n",
            "39 \t10    \n",
            "40 \t10    \n",
            "41 \t10    \n",
            "42 \t10    \n",
            "43 \t10    \n",
            "44 \t14    \n",
            "45 \t10    \n",
            "46 \t12    \n",
            "47 \t10    \n",
            "48 \t10    \n",
            "49 \t9     \n",
            "50 \t11    \n",
            "Best Individual (GA, 50 generations): [0.03429171140354603, 64, 1, 64, 0, 2, 1, 2]\n",
            "Accuracy (GA, 50 generations): 0.8273838758468628\n",
            "Running SA for 25 epochs...\n"
          ]
        },
        {
          "output_type": "error",
          "ename": "ValueError",
          "evalue": "not enough values to unpack (expected 8, got 7)",
          "traceback": [
            "\u001b[0;31m---------------------------------------------------------------------------\u001b[0m",
            "\u001b[0;31mValueError\u001b[0m                                Traceback (most recent call last)",
            "\u001b[0;32m<ipython-input-9-48f7b9dc83bb>\u001b[0m in \u001b[0;36m<cell line: 21>\u001b[0;34m()\u001b[0m\n\u001b[1;32m     21\u001b[0m \u001b[0;32mfor\u001b[0m \u001b[0mtemp_epochs\u001b[0m \u001b[0;32min\u001b[0m \u001b[0;34m[\u001b[0m\u001b[0;36m25\u001b[0m\u001b[0;34m,\u001b[0m \u001b[0;36m50\u001b[0m\u001b[0;34m]\u001b[0m\u001b[0;34m:\u001b[0m\u001b[0;34m\u001b[0m\u001b[0;34m\u001b[0m\u001b[0m\n\u001b[1;32m     22\u001b[0m     \u001b[0mprint\u001b[0m\u001b[0;34m(\u001b[0m\u001b[0;34mf\"Running SA for {temp_epochs} epochs...\"\u001b[0m\u001b[0;34m)\u001b[0m\u001b[0;34m\u001b[0m\u001b[0;34m\u001b[0m\u001b[0m\n\u001b[0;32m---> 23\u001b[0;31m     \u001b[0mbest_solution\u001b[0m\u001b[0;34m,\u001b[0m \u001b[0mbest_accuracy\u001b[0m \u001b[0;34m=\u001b[0m \u001b[0msa_optimization\u001b[0m\u001b[0;34m(\u001b[0m\u001b[0;34m)\u001b[0m\u001b[0;34m\u001b[0m\u001b[0;34m\u001b[0m\u001b[0m\n\u001b[0m\u001b[1;32m     24\u001b[0m     \u001b[0mprint\u001b[0m\u001b[0;34m(\u001b[0m\u001b[0;34mf\"Best Individual (SA, {temp_epochs} epochs):\"\u001b[0m\u001b[0;34m,\u001b[0m \u001b[0mbest_solution\u001b[0m\u001b[0;34m)\u001b[0m\u001b[0;34m\u001b[0m\u001b[0;34m\u001b[0m\u001b[0m\n\u001b[1;32m     25\u001b[0m     \u001b[0mprint\u001b[0m\u001b[0;34m(\u001b[0m\u001b[0;34mf\"Accuracy (SA, {temp_epochs} epochs): {best_accuracy}\"\u001b[0m\u001b[0;34m)\u001b[0m\u001b[0;34m\u001b[0m\u001b[0;34m\u001b[0m\u001b[0m\n",
            "\u001b[0;32m<ipython-input-8-96bd80c275a8>\u001b[0m in \u001b[0;36msa_optimization\u001b[0;34m()\u001b[0m\n\u001b[1;32m     16\u001b[0m \u001b[0;34m\u001b[0m\u001b[0m\n\u001b[1;32m     17\u001b[0m     \u001b[0mbest_solution\u001b[0m \u001b[0;34m=\u001b[0m \u001b[0minitial_solution\u001b[0m\u001b[0;34m\u001b[0m\u001b[0;34m\u001b[0m\u001b[0m\n\u001b[0;32m---> 18\u001b[0;31m     \u001b[0mbest_cost\u001b[0m \u001b[0;34m=\u001b[0m \u001b[0mevaluate_ann_ga\u001b[0m\u001b[0;34m(\u001b[0m\u001b[0mbest_solution\u001b[0m\u001b[0;34m)\u001b[0m\u001b[0;34m[\u001b[0m\u001b[0;36m0\u001b[0m\u001b[0;34m]\u001b[0m\u001b[0;34m\u001b[0m\u001b[0;34m\u001b[0m\u001b[0m\n\u001b[0m\u001b[1;32m     19\u001b[0m \u001b[0;34m\u001b[0m\u001b[0m\n\u001b[1;32m     20\u001b[0m     \u001b[0;32mwhile\u001b[0m \u001b[0mtemperature\u001b[0m \u001b[0;34m>\u001b[0m \u001b[0;36m1\u001b[0m\u001b[0;34m:\u001b[0m\u001b[0;34m\u001b[0m\u001b[0;34m\u001b[0m\u001b[0m\n",
            "\u001b[0;32m<ipython-input-6-de43cc89b17e>\u001b[0m in \u001b[0;36mevaluate_ann_ga\u001b[0;34m(individual)\u001b[0m\n\u001b[1;32m      1\u001b[0m \u001b[0;31m# Updated evaluation function\u001b[0m\u001b[0;34m\u001b[0m\u001b[0;34m\u001b[0m\u001b[0m\n\u001b[1;32m      2\u001b[0m \u001b[0;32mdef\u001b[0m \u001b[0mevaluate_ann_ga\u001b[0m\u001b[0;34m(\u001b[0m\u001b[0mindividual\u001b[0m\u001b[0;34m)\u001b[0m\u001b[0;34m:\u001b[0m\u001b[0;34m\u001b[0m\u001b[0;34m\u001b[0m\u001b[0m\n\u001b[0;32m----> 3\u001b[0;31m     \u001b[0mlearning_rate\u001b[0m\u001b[0;34m,\u001b[0m \u001b[0mbatch_size\u001b[0m\u001b[0;34m,\u001b[0m \u001b[0mnum_hidden_layers\u001b[0m\u001b[0;34m,\u001b[0m \u001b[0munits_per_layer\u001b[0m\u001b[0;34m,\u001b[0m \u001b[0mkernel_size_index\u001b[0m\u001b[0;34m,\u001b[0m \u001b[0mactivation_index\u001b[0m\u001b[0;34m,\u001b[0m \u001b[0mpooling_index\u001b[0m\u001b[0;34m,\u001b[0m \u001b[0moptimizer_index\u001b[0m \u001b[0;34m=\u001b[0m \u001b[0mindividual\u001b[0m\u001b[0;34m\u001b[0m\u001b[0;34m\u001b[0m\u001b[0m\n\u001b[0m\u001b[1;32m      4\u001b[0m     \u001b[0mactivation_functions\u001b[0m \u001b[0;34m=\u001b[0m \u001b[0;34m[\u001b[0m\u001b[0;34m'relu'\u001b[0m\u001b[0;34m,\u001b[0m \u001b[0;34m'tanh'\u001b[0m\u001b[0;34m,\u001b[0m \u001b[0;34m'sigmoid'\u001b[0m\u001b[0;34m]\u001b[0m\u001b[0;34m\u001b[0m\u001b[0;34m\u001b[0m\u001b[0m\n\u001b[1;32m      5\u001b[0m     \u001b[0moptimizers\u001b[0m \u001b[0;34m=\u001b[0m \u001b[0;34m[\u001b[0m\u001b[0;34m'SGD'\u001b[0m\u001b[0;34m,\u001b[0m \u001b[0;34m'Adam'\u001b[0m\u001b[0;34m,\u001b[0m \u001b[0;34m'RMSProp'\u001b[0m\u001b[0;34m]\u001b[0m\u001b[0;34m\u001b[0m\u001b[0;34m\u001b[0m\u001b[0m\n",
            "\u001b[0;31mValueError\u001b[0m: not enough values to unpack (expected 8, got 7)"
          ]
        }
      ],
      "source": [
        "import matplotlib.pyplot as plt\n",
        "\n",
        "# Store results for GA and SA\n",
        "results = {\n",
        "    \"GA\": {\"generations\": [25, 50], \"accuracies\": []},\n",
        "    \"SA\": {\"epochs\": [25, 50], \"accuracies\": []},\n",
        "}\n",
        "\n",
        "# Run GA\n",
        "for num_generations in [25, 50]:\n",
        "    print(f\"Running GA for {num_generations} generations...\")\n",
        "    population = toolbox.population(n=30)  # Reduced population size for memory\n",
        "    result = algorithms.eaSimple(population, toolbox, cxpb=0.3, mutpb=0.05, ngen=num_generations, verbose=True)\n",
        "    best_individual = tools.selBest(population, k=1)[0]\n",
        "    accuracy = evaluate_ann_ga(best_individual)[0]\n",
        "    print(f\"Best Individual (GA, {num_generations} generations):\", best_individual)\n",
        "    print(f\"Accuracy (GA, {num_generations} generations): {accuracy}\")\n",
        "    results[\"GA\"][\"accuracies\"].append(accuracy)\n",
        "\n",
        "# Run SA\n",
        "for temp_epochs in [25, 50]:\n",
        "    print(f\"Running SA for {temp_epochs} epochs...\")\n",
        "    best_solution, best_accuracy = sa_optimization()\n",
        "    print(f\"Best Individual (SA, {temp_epochs} epochs):\", best_solution)\n",
        "    print(f\"Accuracy (SA, {temp_epochs} epochs): {best_accuracy}\")\n",
        "    results[\"SA\"][\"accuracies\"].append(best_accuracy)"
      ]
    },
    {
      "cell_type": "code",
      "execution_count": 15,
      "metadata": {
        "id": "vU0hpj8JUPYa"
      },
      "outputs": [],
      "source": [
        "def sa_optimization():\n",
        "    initial_solution = [0.01, 32, 2, 32, 0.2, 1, 0, 2]  # Ensure pooling_index is 0 or 1\n",
        "    bounds = [\n",
        "        (0.0001, 0.1),  # learning_rate\n",
        "        (16, 64),       # batch_size\n",
        "        (1, 3),         # num_hidden_layers\n",
        "        (16, 64),       # units_per_layer\n",
        "        (0.1, 0.3),     # dropout_rate\n",
        "        (0, 2),         # activation_index\n",
        "        (0, 1),         # pooling_index (fixed to 0 or 1)\n",
        "        (0, 2)          # optimizer_index\n",
        "    ]\n",
        "    temperature = 100\n",
        "    cooling_rate = 0.9\n",
        "\n",
        "    def random_neighbor(solution):\n",
        "        neighbor = []\n",
        "        for i, bound in enumerate(bounds):\n",
        "            if isinstance(bound[0], int):\n",
        "                neighbor.append(random.randint(bound[0], bound[1]))\n",
        "            else:\n",
        "                neighbor.append(random.uniform(bound[0], bound[1]))\n",
        "        return neighbor\n",
        "\n",
        "    best_solution = initial_solution\n",
        "    best_cost = evaluate_ann_ga(best_solution)[0]\n",
        "\n",
        "    while temperature > 1:\n",
        "        new_solution = random_neighbor(best_solution)\n",
        "        new_cost = evaluate_ann_ga(new_solution)[0]\n",
        "\n",
        "        if new_cost > best_cost or random.uniform(0, 1) < np.exp((new_cost - best_cost) / temperature):\n",
        "            best_solution = new_solution\n",
        "            best_cost = new_cost\n",
        "\n",
        "        temperature *= cooling_rate\n",
        "\n",
        "    return best_solution, best_cost"
      ]
    },
    {
      "cell_type": "code",
      "source": [
        "# Run SA\n",
        "for temp_epochs in [25, 50]:\n",
        "    print(f\"Running SA for {temp_epochs} epochs...\")\n",
        "    best_solution, best_accuracy = sa_optimization()\n",
        "    print(f\"Best Individual (SA, {temp_epochs} epochs):\", best_solution)\n",
        "    print(f\"Accuracy (SA, {temp_epochs} epochs): {best_accuracy}\")\n",
        "    results[\"SA\"][\"accuracies\"].append(best_accuracy)"
      ],
      "metadata": {
        "colab": {
          "base_uri": "https://localhost:8080/"
        },
        "id": "SFZNW_mrH-WY",
        "outputId": "afc82ced-0097-4fdc-d44d-de539a85b763"
      },
      "execution_count": 16,
      "outputs": [
        {
          "output_type": "stream",
          "name": "stdout",
          "text": [
            "Running SA for 25 epochs...\n",
            "Best Individual (SA, 25 epochs): [0.0795326462569282, 50, 1, 55, 0.2697997005154085, 1, 0, 2]\n",
            "Accuracy (SA, 25 epochs): 0.8151589035987854\n",
            "Running SA for 50 epochs...\n",
            "Best Individual (SA, 50 epochs): [0.06428373985869346, 32, 2, 20, 0.2746259896892008, 2, 0, 0]\n",
            "Accuracy (SA, 50 epochs): 0.7466992735862732\n"
          ]
        }
      ]
    },
    {
      "cell_type": "code",
      "execution_count": 17,
      "metadata": {
        "id": "Ss3YoO9FYiQm",
        "colab": {
          "base_uri": "https://localhost:8080/"
        },
        "outputId": "4c9ffe75-abc1-49c7-9e2e-c9ffd9678ee3"
      },
      "outputs": [
        {
          "output_type": "stream",
          "name": "stdout",
          "text": [
            "\n",
            "Comparison of Results:\n",
            "GA Accuracies: [0.8298288583755493, 0.8273838758468628]\n",
            "SA Accuracies: [0.8151589035987854, 0.7466992735862732]\n"
          ]
        }
      ],
      "source": [
        "# Print Results\n",
        "print(\"\\nComparison of Results:\")\n",
        "print(f\"GA Accuracies: {results['GA']['accuracies']}\")\n",
        "print(f\"SA Accuracies: {results['SA']['accuracies']}\")"
      ]
    },
    {
      "cell_type": "code",
      "source": [
        "# Visualization\n",
        "plt.figure(figsize=(10, 6))\n",
        "plt.plot(results[\"GA\"][\"generations\"], results[\"GA\"][\"accuracies\"], label=\"GA Accuracy\", marker=\"o\")\n",
        "plt.plot(results[\"SA\"][\"epochs\"], results[\"SA\"][\"accuracies\"], label=\"SA Accuracy\", marker=\"o\")\n",
        "\n",
        "plt.title(\"Comparison of GA and SA Accuracies\")\n",
        "plt.xlabel(\"Generations / Epochs\")\n",
        "plt.ylabel(\"Accuracy\")\n",
        "plt.xticks([25, 50])\n",
        "plt.legend()\n",
        "plt.grid(True)\n",
        "plt.show()"
      ],
      "metadata": {
        "id": "Fug1bjI1BjwQ",
        "colab": {
          "base_uri": "https://localhost:8080/",
          "height": 549
        },
        "outputId": "eecc980f-5138-4a94-9b63-fdb2b35f7ce5"
      },
      "execution_count": 18,
      "outputs": [
        {
          "output_type": "display_data",
          "data": {
            "text/plain": [
              "<Figure size 1000x600 with 1 Axes>"
            ],
            "image/png": "[encoded data removed]"
          },
          "metadata": {}
        }
      ]
    }
  ],
  "metadata": {
    "colab": {
      "provenance": [],
      "machine_shape": "hm",
      "gpuType": "T4"
    },
    "kernelspec": {
      "display_name": "Python 3",
      "name": "python3"
    },
    "language_info": {
      "name": "python"
    },
    "accelerator": "GPU"
  },
  "nbformat": 4,
  "nbformat_minor": 0
}